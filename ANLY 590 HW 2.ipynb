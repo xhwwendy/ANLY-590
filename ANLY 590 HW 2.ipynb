{
 "cells": [
  {
   "cell_type": "markdown",
   "metadata": {},
   "source": [
    "## Wen Cui, Tianyu Yang"
   ]
  },
  {
   "cell_type": "code",
   "execution_count": 14,
   "metadata": {},
   "outputs": [],
   "source": [
    "from keras.layers import Input, Dense, Conv2D,MaxPooling2D,UpSampling2D,Dropout,Flatten\n",
    "from keras.models import Model, Sequential\n",
    "from keras.datasets import mnist\n",
    "import numpy as np\n",
    "from keras.utils import np_utils\n",
    "import matplotlib.pyplot as plt\n",
    "%matplotlib inline\n",
    "import tensorflow as tf\n",
    "from keras import backend as K\n",
    "\n",
    "def extract_layer_output(model, layer_num):\n",
    "    return K.function([model.input] + [K.learning_phase()], [model.layers[layer_num].output])"
   ]
  },
  {
   "cell_type": "markdown",
   "metadata": {},
   "source": [
    "## 1 Autoencoder"
   ]
  },
  {
   "cell_type": "markdown",
   "metadata": {},
   "source": [
    "A convolutional autoencoder is a particular flavor of autoencoder where we use convolutional layers instead of dense layers. We have previously applied autoencoders to images using only Dense layers and the result worked fairly well. However, the local spatial correlations of images imply that we should be able to do better using convolutional layers instead of Dense layers.\n",
    "Build and fit a convolutional autoencoder for the Fashion MNIST dataset. The components of this network will be many of the same pieces we’ve used with convolutional classification networks: Conv2D, MaxPooling, and so on. The encoder part of the network should run the input image through a few convolutional layers of your choice. The decoder part of the network will utilize UpSampling2D to get the representation back to the original image size.\n",
    "An example to guide your thinking can be found toward the bottom of this post https://blog.keras.io/building-autoencoders-in-keras.html.\n",
    "After training your network, visualize some examples of input images and their decoded reconstruction."
   ]
  },
  {
   "cell_type": "code",
   "execution_count": 7,
   "metadata": {},
   "outputs": [
    {
     "name": "stdout",
     "output_type": "stream",
     "text": [
      "(60000, 28, 28, 1)\n"
     ]
    }
   ],
   "source": [
    "# load fashion mnist data\n",
    "(X_train,y_train), (X_test,y_test) = tf.keras.datasets.fashion_mnist.load_data()\n",
    "labels =['t-shirt', 'trouser', 'pullover', 'dress', 'coat','snadal', 'shirt', 'sneaker','bag','ankle boot']\n",
    "X_train = X_train.reshape(X_train.shape[0], 28, 28,1)\n",
    "X_test = X_test.reshape(X_test.shape[0], 28, 28,1)\n",
    "print(X_train.shape)"
   ]
  },
  {
   "cell_type": "code",
   "execution_count": 8,
   "metadata": {},
   "outputs": [
    {
     "data": {
      "image/png": "[encoded data removed]",
      "text/plain": [
       "<matplotlib.figure.Figure at 0x1826bb0940>"
      ]
     },
     "metadata": {},
     "output_type": "display_data"
    }
   ],
   "source": [
    "plt.imshow(X_train[0,:,:].reshape(28,28),cmap='gray')\n",
    "plt.title(labels[y_train[0]])\n",
    "plt.show()\n"
   ]
  },
  {
   "cell_type": "code",
   "execution_count": 9,
   "metadata": {},
   "outputs": [
    {
     "name": "stdout",
     "output_type": "stream",
     "text": [
      "_________________________________________________________________\n",
      "Layer (type)                 Output Shape              Param #   \n",
      "=================================================================\n",
      "conv2d_1 (Conv2D)            (None, 28, 28, 32)        320       \n",
      "_________________________________________________________________\n",
      "max_pooling2d_1 (MaxPooling2 (None, 14, 14, 32)        0         \n",
      "_________________________________________________________________\n",
      "conv2d_2 (Conv2D)            (None, 14, 14, 32)        9248      \n",
      "_________________________________________________________________\n",
      "max_pooling2d_2 (MaxPooling2 (None, 7, 7, 32)          0         \n",
      "_________________________________________________________________\n",
      "conv2d_3 (Conv2D)            (None, 7, 7, 32)          9248      \n",
      "_________________________________________________________________\n",
      "max_pooling2d_3 (MaxPooling2 (None, 4, 4, 32)          0         \n",
      "_________________________________________________________________\n",
      "conv2d_4 (Conv2D)            (None, 4, 4, 8)           2312      \n",
      "_________________________________________________________________\n",
      "up_sampling2d_1 (UpSampling2 (None, 8, 8, 8)           0         \n",
      "_________________________________________________________________\n",
      "conv2d_5 (Conv2D)            (None, 8, 8, 8)           584       \n",
      "_________________________________________________________________\n",
      "up_sampling2d_2 (UpSampling2 (None, 16, 16, 8)         0         \n",
      "_________________________________________________________________\n",
      "conv2d_6 (Conv2D)            (None, 14, 14, 16)        1168      \n",
      "_________________________________________________________________\n",
      "up_sampling2d_3 (UpSampling2 (None, 28, 28, 16)        0         \n",
      "_________________________________________________________________\n",
      "conv2d_7 (Conv2D)            (None, 28, 28, 1)         145       \n",
      "=================================================================\n",
      "Total params: 23,025\n",
      "Trainable params: 23,025\n",
      "Non-trainable params: 0\n",
      "_________________________________________________________________\n"
     ]
    }
   ],
   "source": [
    "#construct encoder\n",
    "c_auto  = Sequential()\n",
    "# encoding\n",
    "c_auto.add(Conv2D(filters = 32,kernel_size= (3,3), activation= 'relu', padding='same',strides=(1,1), input_shape = (28,28,1)))\n",
    "c_auto.add(MaxPooling2D((2,2), padding ='same'))\n",
    "c_auto.add(Conv2D(filters = 32,kernel_size= (3,3), activation= 'relu', padding='same',strides=(1,1)))\n",
    "c_auto.add(MaxPooling2D((2,2), padding = 'same'))\n",
    "c_auto.add(Conv2D(filters = 32,kernel_size= (3,3), activation= 'relu', padding='same',strides=(1,1)))\n",
    "c_auto.add(MaxPooling2D((2,2), padding = 'same'))\n",
    "\n",
    "# decoding\n",
    "c_auto.add(Conv2D(filters =8,kernel_size= (3,3), activation= 'relu', padding='same',strides=(1,1)))\n",
    "c_auto.add(UpSampling2D((2,2)))\n",
    "c_auto.add(Conv2D(filters = 8,kernel_size= (3,3), activation= 'relu', padding='same',strides=(1,1)))\n",
    "c_auto.add(UpSampling2D((2,2)))\n",
    "c_auto.add(Conv2D(filters = 16,kernel_size= (3,3), activation= 'relu',strides=(1,1)))\n",
    "c_auto.add(UpSampling2D((2,2)))\n",
    "c_auto.add(Conv2D(filters = 1,kernel_size= (3,3), activation= 'sigmoid', padding='same'))\n",
    "\n",
    "c_auto.compile(optimizer = 'adadelta', loss ='binary_crossentropy')\n",
    "c_auto.summary()\n"
   ]
  },
  {
   "cell_type": "code",
   "execution_count": 10,
   "metadata": {},
   "outputs": [
    {
     "name": "stdout",
     "output_type": "stream",
     "text": [
      "Train on 42000 samples, validate on 18000 samples\n",
      "Epoch 1/3\n",
      "42000/42000 [==============================] - 76s 2ms/step - loss: -1131.9942 - val_loss: -1155.7335\n",
      "Epoch 2/3\n",
      "42000/42000 [==============================] - 76s 2ms/step - loss: -1149.0023 - val_loss: -1156.7810\n",
      "Epoch 3/3\n",
      "42000/42000 [==============================] - 74s 2ms/step - loss: -1149.7179 - val_loss: -1157.4837\n"
     ]
    },
    {
     "data": {
      "text/plain": [
       "<keras.callbacks.History at 0x1826bfb470>"
      ]
     },
     "execution_count": 10,
     "metadata": {},
     "output_type": "execute_result"
    }
   ],
   "source": [
    "# model training\n",
    "c_auto.fit(X_train, X_train, epochs = 3, batch_size = 256, validation_split=0.3)"
   ]
  },
  {
   "cell_type": "code",
   "execution_count": 11,
   "metadata": {
    "collapsed": true
   },
   "outputs": [],
   "source": [
    "f=extract_layer_output(c_auto, 5)\n",
    "decodedpic= c_auto.predict(X_test[:10,:])\n",
    "encodedpic =f([X_test[:10,:]])[0]"
   ]
  },
  {
   "cell_type": "code",
   "execution_count": 12,
   "metadata": {
    "scrolled": false
   },
   "outputs": [
    {
     "data": {
      "image/png": "[encoded data removed]",
      "text/plain": [
       "<matplotlib.figure.Figure at 0x1048508d0>"
      ]
     },
     "metadata": {},
     "output_type": "display_data"
    }
   ],
   "source": [
    "plt.figure(figsize=(50,20))\n",
    "for i in range(10):\n",
    "    \n",
    "    #original\n",
    "    ax = plt.subplot(3,10,i+1)\n",
    "    plt.imshow(X_test[i,:].reshape(28,28),cmap='gray')\n",
    "    ax.get_xaxis().set_visible(False)\n",
    "    ax.get_yaxis().set_visible(False)\n",
    "\n",
    "    #encoded\n",
    "    ax = plt.subplot(3,10,i+10+1)\n",
    "    plt.imshow(encodedpic[i].reshape(4, 4 * 32).T,cmap='gray')\n",
    "    ax.get_xaxis().set_visible(False)\n",
    "    ax.get_yaxis().set_visible(False)\n",
    "    \n",
    "    #decoded\n",
    "    ax = plt.subplot(3,10,i+20+1)\n",
    "    plt.imshow(decodedpic[i].reshape(28, 28),cmap='gray')\n",
    "    ax.get_xaxis().set_visible(False)\n",
    "    ax.get_yaxis().set_visible(False)\n",
    "plt.show()"
   ]
  },
  {
   "cell_type": "markdown",
   "metadata": {},
   "source": [
    "## 2 Image Classification"
   ]
  },
  {
   "cell_type": "markdown",
   "metadata": {},
   "source": [
    "We’ll continue to use the Fashion MNIST dataset and build a deep convolutional network for classification."
   ]
  },
  {
   "cell_type": "markdown",
   "metadata": {},
   "source": [
    "### 2.1 Deep CNN"
   ]
  },
  {
   "cell_type": "markdown",
   "metadata": {},
   "source": [
    "Build a deep CNN to classify the images. Provide a brief description of the architectural choices you’ve made: kernel sizes, strides, padding, network depth. Train your network end-to-end. Report on your model’s performance on training set and test set.\n"
   ]
  },
  {
   "cell_type": "code",
   "execution_count": 170,
   "metadata": {},
   "outputs": [
    {
     "name": "stdout",
     "output_type": "stream",
     "text": [
      "_________________________________________________________________\n",
      "Layer (type)                 Output Shape              Param #   \n",
      "=================================================================\n",
      "conv2d_158 (Conv2D)          (None, 28, 28, 64)        1088      \n",
      "_________________________________________________________________\n",
      "max_pooling2d_79 (MaxPooling (None, 14, 14, 64)        0         \n",
      "_________________________________________________________________\n",
      "dropout_28 (Dropout)         (None, 14, 14, 64)        0         \n",
      "_________________________________________________________________\n",
      "conv2d_159 (Conv2D)          (None, 14, 14, 64)        65600     \n",
      "_________________________________________________________________\n",
      "max_pooling2d_80 (MaxPooling (None, 7, 7, 64)          0         \n",
      "_________________________________________________________________\n",
      "dropout_29 (Dropout)         (None, 7, 7, 64)          0         \n",
      "_________________________________________________________________\n",
      "flatten_11 (Flatten)         (None, 3136)              0         \n",
      "_________________________________________________________________\n",
      "dense_24 (Dense)             (None, 64)                200768    \n",
      "_________________________________________________________________\n",
      "dropout_30 (Dropout)         (None, 64)                0         \n",
      "_________________________________________________________________\n",
      "dense_25 (Dense)             (None, 10)                650       \n",
      "=================================================================\n",
      "Total params: 268,106\n",
      "Trainable params: 268,106\n",
      "Non-trainable params: 0\n",
      "_________________________________________________________________\n",
      "None\n"
     ]
    }
   ],
   "source": [
    "cnn = Sequential()\n",
    "cnn.add(Conv2D(filters =64 ,kernel_size=(4, 4), \n",
    "                 activation='relu', strides=(1, 1), \n",
    "                 padding='same',\n",
    "                 input_shape=(28,28,1)))\n",
    "cnn.add(MaxPooling2D(pool_size=(2,2)))\n",
    "cnn.add(Dropout(0.25))\n",
    "cnn.add(Conv2D(filters = 64,kernel_size=(4, 4), \n",
    "                 activation='relu', strides=(1, 1), \n",
    "                 padding='same'))\n",
    "cnn.add(MaxPooling2D(pool_size=(2,2)))\n",
    "cnn.add(Dropout(0.25))\n",
    "cnn.add(Flatten())\n",
    "cnn.add(Dense(64, activation='relu'))\n",
    "cnn.add(Dropout(0.5))\n",
    "cnn.add(Dense(10, activation='softmax'))\n",
    "print(cnn.summary())"
   ]
  },
  {
   "cell_type": "code",
   "execution_count": 171,
   "metadata": {},
   "outputs": [
    {
     "name": "stdout",
     "output_type": "stream",
     "text": [
      "Train on 42000 samples, validate on 18000 samples\n",
      "Epoch 1/4\n",
      "42000/42000 [==============================] - 57s 1ms/step - loss: 4.8642 - acc: 0.4671 - val_loss: 0.5461 - val_acc: 0.7930\n",
      "Epoch 2/4\n",
      "42000/42000 [==============================] - 56s 1ms/step - loss: 0.7279 - acc: 0.7179 - val_loss: 0.4223 - val_acc: 0.8456\n",
      "Epoch 3/4\n",
      "42000/42000 [==============================] - 55s 1ms/step - loss: 0.5881 - acc: 0.7855 - val_loss: 0.3618 - val_acc: 0.8669\n",
      "Epoch 4/4\n",
      "42000/42000 [==============================] - 55s 1ms/step - loss: 0.5130 - acc: 0.8116 - val_loss: 0.3459 - val_acc: 0.8777\n"
     ]
    },
    {
     "data": {
      "text/plain": [
       "<keras.callbacks.History at 0xb48ca8470>"
      ]
     },
     "execution_count": 171,
     "metadata": {},
     "output_type": "execute_result"
    }
   ],
   "source": [
    "Y_train = np_utils.to_categorical(y_train, 10)\n",
    "Y_test = np_utils.to_categorical(y_test, 10)\n",
    "cnn.compile(loss = 'categorical_crossentropy',\n",
    "            optimizer='adam',\n",
    "            metrics = ['accuracy'])\n",
    "cnn.fit(X_train, Y_train,\n",
    "          epochs=4,\n",
    "          batch_size=128,\n",
    "        validation_split = 0.3)"
   ]
  },
  {
   "cell_type": "code",
   "execution_count": 172,
   "metadata": {
    "collapsed": true
   },
   "outputs": [],
   "source": [
    "y_pred = cnn.predict_classes(X_test)"
   ]
  },
  {
   "cell_type": "code",
   "execution_count": 176,
   "metadata": {},
   "outputs": [
    {
     "data": {
      "text/plain": [
       "0.8727"
      ]
     },
     "execution_count": 176,
     "metadata": {},
     "output_type": "execute_result"
    }
   ],
   "source": [
    "# accuracy on test set\n",
    "(y_pred == y_test).sum()/len(y_test)"
   ]
  },
  {
   "cell_type": "markdown",
   "metadata": {},
   "source": [
    "The network contains two convolution layers each with 64 3 by 3 filters, striding 1 by 1. Each convolution layer is followed by a max pooling layer with size 2 by 2. Drop out is applied on the last max pooling layer. After, the network contains two dense layers with 64 and 10 neurons respectively. Drop out is applied on both layer. Relu activation is applied on all but last layer, where softmax is used.<br><br>\n",
    "The model is trained for 4 epochs with 30% validation. Model accuracy is around 87% for both the validation and test set."
   ]
  },
  {
   "cell_type": "markdown",
   "metadata": {},
   "source": [
    "### 2.2 Transfer Learning"
   ]
  },
  {
   "cell_type": "markdown",
   "metadata": {},
   "source": [
    "Repeat the same task, but this time utilize a pre-trained network for the majority of your model. You should only train the final Dense layer, all other weights should be fixed. You can use whichever pre-trained backbone you like (ResNet, VGG, etc). Report on your model’s performance on training set and test set.\n"
   ]
  },
  {
   "cell_type": "code",
   "execution_count": 291,
   "metadata": {
    "collapsed": true
   },
   "outputs": [],
   "source": [
    "from keras.applications import ResNet50\n",
    "from scipy.misc import imresize\n",
    "from keras.preprocessing.image import img_to_array, array_to_img\n",
    "\n"
   ]
  },
  {
   "cell_type": "code",
   "execution_count": 301,
   "metadata": {
    "collapsed": true
   },
   "outputs": [],
   "source": [
    "resX_train = X_train\n",
    "resX_test = X_test\n",
    "resX_train = np.c_[X_train,X_train,X_train]\n",
    "resX_test = np.c_[X_test, X_test,X_test]\n",
    "resX_train = np.asarray([img_to_array(array_to_img(im, scale  = False).resize((50,50))) for im in resX_train])\n",
    "resX_test = np.asarray([img_to_array(array_to_img(im, scale  = False).resize((50,50))) for im in resX_test])\n"
   ]
  },
  {
   "cell_type": "code",
   "execution_count": 306,
   "metadata": {},
   "outputs": [
    {
     "name": "stderr",
     "output_type": "stream",
     "text": [
      "/Users/tianyuyang/anaconda3/lib/python3.6/site-packages/keras_applications/resnet50.py:265: UserWarning: The output shape of `ResNet50(include_top=False)` has been changed since Keras 2.2.0.\n",
      "  warnings.warn('The output shape of `ResNet50(include_top=False)` '\n"
     ]
    },
    {
     "name": "stdout",
     "output_type": "stream",
     "text": [
      "_________________________________________________________________\n",
      "Layer (type)                 Output Shape              Param #   \n",
      "=================================================================\n",
      "resnet50 (Model)             (None, 2, 2, 2048)        23587712  \n",
      "_________________________________________________________________\n",
      "flatten_23 (Flatten)         (None, 8192)              0         \n",
      "_________________________________________________________________\n",
      "dense_48 (Dense)             (None, 256)               2097408   \n",
      "_________________________________________________________________\n",
      "dropout_34 (Dropout)         (None, 256)               0         \n",
      "_________________________________________________________________\n",
      "dense_49 (Dense)             (None, 10)                2570      \n",
      "=================================================================\n",
      "Total params: 25,687,690\n",
      "Trainable params: 2,099,978\n",
      "Non-trainable params: 23,587,712\n",
      "_________________________________________________________________\n"
     ]
    }
   ],
   "source": [
    "conv_base = ResNet50(weights=\"imagenet\",include_top=False,input_shape=(50,50,3))\n",
    "t_model = Sequential()\n",
    "t_model.add(conv_base)\n",
    "t_model.add(Flatten())\n",
    "t_model.add(Dense(256, activation=\"relu\"))\n",
    "t_model.add(Dropout(0.5))\n",
    "t_model.add(Dense(10, activation=\"softmax\"))   \n",
    "conv_base.trainable = False\n",
    "t_model.summary()\n"
   ]
  },
  {
   "cell_type": "code",
   "execution_count": 307,
   "metadata": {
    "collapsed": true
   },
   "outputs": [],
   "source": [
    "t_model.compile(loss=\"categorical_crossentropy\", optimizer='adam',metrics=[\"acc\"])\n",
    "\n",
    "\n"
   ]
  },
  {
   "cell_type": "code",
   "execution_count": 308,
   "metadata": {
    "scrolled": true
   },
   "outputs": [
    {
     "name": "stdout",
     "output_type": "stream",
     "text": [
      "Train on 42000 samples, validate on 18000 samples\n",
      "Epoch 1/4\n",
      "42000/42000 [==============================] - 351s 8ms/step - loss: 0.6989 - acc: 0.7704 - val_loss: 1.9905 - val_acc: 0.3883\n",
      "Epoch 2/4\n",
      "42000/42000 [==============================] - 339s 8ms/step - loss: 0.4652 - acc: 0.8351 - val_loss: 1.9881 - val_acc: 0.4084\n",
      "Epoch 3/4\n",
      "42000/42000 [==============================] - 339s 8ms/step - loss: 0.3949 - acc: 0.8590 - val_loss: 1.8540 - val_acc: 0.4594\n",
      "Epoch 4/4\n",
      "42000/42000 [==============================] - 338s 8ms/step - loss: 0.3478 - acc: 0.8732 - val_loss: 1.7040 - val_acc: 0.4914\n"
     ]
    },
    {
     "data": {
      "text/plain": [
       "<keras.callbacks.History at 0xbeb01a550>"
      ]
     },
     "execution_count": 308,
     "metadata": {},
     "output_type": "execute_result"
    }
   ],
   "source": [
    "t_model.fit(resX_train, Y_train,\n",
    "          epochs=4,\n",
    "          batch_size=128,\n",
    "        validation_split = 0.3)"
   ]
  },
  {
   "cell_type": "code",
   "execution_count": 315,
   "metadata": {},
   "outputs": [
    {
     "data": {
      "text/plain": [
       "0.4932"
      ]
     },
     "execution_count": 315,
     "metadata": {},
     "output_type": "execute_result"
    }
   ],
   "source": [
    "sum(t_model.predict_classes(resX_test) == y_test)/len(y_test)"
   ]
  },
  {
   "cell_type": "code",
   "execution_count": 316,
   "metadata": {},
   "outputs": [
    {
     "name": "stderr",
     "output_type": "stream",
     "text": [
      "Clipping input data to the valid range for imshow with RGB data ([0..1] for floats or [0..255] for integers).\n"
     ]
    },
    {
     "data": {
      "image/png": "[encoded data removed]",
      "text/plain": [
       "<Figure size 432x288 with 1 Axes>"
      ]
     },
     "metadata": {},
     "output_type": "display_data"
    }
   ],
   "source": [
    "plt.imshow(resX_test[0])\n",
    "plt.title('resized pic')\n",
    "plt.show()"
   ]
  },
  {
   "cell_type": "code",
   "execution_count": 317,
   "metadata": {},
   "outputs": [
    {
     "data": {
      "image/png": "[encoded data removed]",
      "text/plain": [
       "<Figure size 432x288 with 1 Axes>"
      ]
     },
     "metadata": {},
     "output_type": "display_data"
    }
   ],
   "source": [
    "plt.imshow(X_test[0,:].reshape(28,28))\n",
    "plt.title('original pic')\n",
    "plt.show()"
   ]
  },
  {
   "cell_type": "markdown",
   "metadata": {},
   "source": [
    "We used pretrained resnet50 network with two dense layers at last. Since resnet requires a minimum image size of 32* 32 with 3 channels, we resized the image and stacked the orginal on itself to create such shape.<br><br>\n",
    "With 4 epochs, the model acchieves around 50% accuracy on validation and test sets. With more epochs, the result can improve."
   ]
  },
  {
   "cell_type": "markdown",
   "metadata": {},
   "source": [
    "## Text Classification "
   ]
  },
  {
   "cell_type": "markdown",
   "metadata": {},
   "source": [
    "While images contain local spatial correlations and structure, many other datasets contain temporal correlations. Examples include time series and discrete se- quences such as text. In this problem, we will tackle the task of text classifica- tion in the context of cybersecurity.\n",
    "\n",
    "Background. When malware infects a host computer, it often needs to reach out to an outside server for further instructions or to download additional payloads. This outside server is called a Command-and-Control server (C2). The malware needs to send a specific communication to the C2 server, thus the C2 server needs to have a registered IP address or associated web domain so that it can be reached. Therefore, being able to identify web domains that are likely related to malware C2 can be a valuable cyber defense.\n",
    "\n",
    "Dataset. Fortunately, security researchers have already identified and logged a large number of malicious URLs. Additionally, we can catalog common ”be- nign” URLs just from typical web behavior (these would include things like facebook.com and amazon.com). Hence, we have a labeled dataset for text classification which can be downloaded here:\n",
    "\n",
    "• https://s3.amazonaws.com/anly-590/url-classification/benign-urls.txt\n",
    "\n",
    "• https://s3.amazonaws.com/anly-590/url-classification/malicious-urls.txt\n"
   ]
  },
  {
   "cell_type": "code",
   "execution_count": 85,
   "metadata": {},
   "outputs": [
    {
     "name": "stdout",
     "output_type": "stream",
     "text": [
      "number of instances:  67311\n"
     ]
    },
    {
     "data": {
      "image/png": "[encoded data removed]",
      "text/plain": [
       "<Figure size 432x288 with 1 Axes>"
      ]
     },
     "metadata": {},
     "output_type": "display_data"
    }
   ],
   "source": [
    "from sklearn.model_selection import train_test_split\n",
    "import matplotlib.pyplot as plt\n",
    "# load data\n",
    "def load_data():\n",
    "    ben = []\n",
    "    with open('benign-urls.txt','r') as f:\n",
    "        for line in f:\n",
    "            if not line.startswith('#'):\n",
    "                ben.append(line.strip())\n",
    "    mal =[]\n",
    "    with open('malicious-urls.txt','r') as f:\n",
    "        for line in f:\n",
    "            mal.append(line.strip())\n",
    "    # combine data create labels and shuffle data\n",
    "    labels = [0]*len(ben)+[1]*len(mal)\n",
    "    data = np.array([[text, l] for text, l in zip(ben+mal, labels)])\n",
    "    np.random.shuffle(data)\n",
    "    return list(data[:,0]), data[:,1]\n",
    "X,y = load_data()\n",
    "y = y.astype(int)\n",
    "print('number of instances: ',len(X))\n",
    "lengths = list(map(len, X))\n",
    "plt.hist(lengths)\n",
    "plt.title('length distribution')\n",
    "plt.show()"
   ]
  },
  {
   "cell_type": "code",
   "execution_count": 86,
   "metadata": {
    "collapsed": true
   },
   "outputs": [],
   "source": [
    "train_X, test_X,train_y, test_y = train_test_split(X,y, test_size =0.3,random_state = 100 )"
   ]
  },
  {
   "cell_type": "code",
   "execution_count": 87,
   "metadata": {
    "collapsed": true
   },
   "outputs": [],
   "source": [
    "# create tokenization and character embedding\n",
    "from keras.preprocessing.text import Tokenizer\n",
    "from keras.preprocessing.sequence import pad_sequences\n",
    "\n",
    "max_len = 55\n",
    "char_dimension = 30\n",
    "tok  = Tokenizer(char_level=True)\n",
    "tok.fit_on_texts(train_X)\n",
    "train_X_tok = tok.texts_to_sequences(train_X)\n",
    "test_X_tok = tok.texts_to_sequences(test_X)\n",
    "train_X_tok =pad_sequences(train_X_tok, maxlen =max_len)\n",
    "test_X_tok = pad_sequences(test_X_tok, maxlen = max_len)\n",
    "num_char =len(tok.word_index)"
   ]
  },
  {
   "cell_type": "markdown",
   "metadata": {},
   "source": [
    "### 3.1 RNN"
   ]
  },
  {
   "cell_type": "code",
   "execution_count": 88,
   "metadata": {
    "collapsed": true
   },
   "outputs": [],
   "source": [
    "from keras.layers import Embedding, Bidirectional, LSTM, GRU, SpatialDropout1D, Dropout, Dense, Conv1D, MaxPool1D, Flatten\n",
    "from keras.models import Sequential"
   ]
  },
  {
   "cell_type": "code",
   "execution_count": 89,
   "metadata": {},
   "outputs": [
    {
     "name": "stdout",
     "output_type": "stream",
     "text": [
      "_________________________________________________________________\n",
      "Layer (type)                 Output Shape              Param #   \n",
      "=================================================================\n",
      "embedding_7 (Embedding)      (None, 55, 30)            1200      \n",
      "_________________________________________________________________\n",
      "bidirectional_7 (Bidirection (None, 55, 128)           48640     \n",
      "_________________________________________________________________\n",
      "flatten_5 (Flatten)          (None, 7040)              0         \n",
      "_________________________________________________________________\n",
      "dense_7 (Dense)              (None, 1)                 7041      \n",
      "=================================================================\n",
      "Total params: 56,881\n",
      "Trainable params: 56,881\n",
      "Non-trainable params: 0\n",
      "_________________________________________________________________\n"
     ]
    }
   ],
   "source": [
    "rnn = Sequential()\n",
    "rnn.add( Embedding(num_char+1,char_dimension,input_length=max_len))\n",
    "rnn.add(Bidirectional(LSTM(64,return_sequences=True, recurrent_dropout=0.1, dropout=0.1)))\n",
    "rnn.add(Flatten())\n",
    "rnn.add(Dense(1, activation='sigmoid'))\n",
    "rnn.summary()"
   ]
  },
  {
   "cell_type": "code",
   "execution_count": 90,
   "metadata": {},
   "outputs": [
    {
     "name": "stdout",
     "output_type": "stream",
     "text": [
      "Train on 32981 samples, validate on 14136 samples\n",
      "Epoch 1/3\n",
      "32981/32981 [==============================] - 23s 693us/step - loss: 0.0924 - acc: 0.9802 - val_loss: 0.0510 - val_acc: 0.9814\n",
      "Epoch 2/3\n",
      "32981/32981 [==============================] - 22s 667us/step - loss: 0.0454 - acc: 0.9822 - val_loss: 0.0319 - val_acc: 0.9871\n",
      "Epoch 3/3\n",
      "32981/32981 [==============================] - 21s 644us/step - loss: 0.0296 - acc: 0.9869 - val_loss: 0.0251 - val_acc: 0.9881\n"
     ]
    },
    {
     "data": {
      "text/plain": [
       "<keras.callbacks.History at 0x1a4f585c18>"
      ]
     },
     "execution_count": 90,
     "metadata": {},
     "output_type": "execute_result"
    }
   ],
   "source": [
    "rnn.compile(loss='binary_crossentropy',optimizer='adam', metrics=['accuracy'])\n",
    "rnn.fit(train_X_tok, train_y, epochs=3, batch_size=128, validation_split=0.3)"
   ]
  },
  {
   "cell_type": "code",
   "execution_count": 93,
   "metadata": {},
   "outputs": [
    {
     "name": "stdout",
     "output_type": "stream",
     "text": [
      "Precision:  0.6349514563106796\n",
      "Recall:  0.8515625\n",
      "F1:  0.7274749721913237\n",
      "ROC AUC:  0.993601321933367\n"
     ]
    }
   ],
   "source": [
    "from sklearn.metrics import roc_auc_score, precision_score, recall_score, f1_score\n",
    "rnn_pred =rnn.predict_classes(test_X_tok)\n",
    "rnn_prob =rnn.predict_proba(test_X_tok)\n",
    "print('Precision: ',precision_score(test_y, rnn_pred))\n",
    "print('Recall: ',recall_score(test_y, rnn_pred))\n",
    "print('F1: ',f1_score(test_y, rnn_pred))\n",
    "print('ROC AUC: ',roc_auc_score(test_y, rnn_prob))"
   ]
  },
  {
   "cell_type": "markdown",
   "metadata": {},
   "source": [
    "### 3.2 CNN"
   ]
  },
  {
   "cell_type": "code",
   "execution_count": 101,
   "metadata": {},
   "outputs": [
    {
     "name": "stdout",
     "output_type": "stream",
     "text": [
      "_________________________________________________________________\n",
      "Layer (type)                 Output Shape              Param #   \n",
      "=================================================================\n",
      "embedding_13 (Embedding)     (None, 55, 30)            1200      \n",
      "_________________________________________________________________\n",
      "conv1d_8 (Conv1D)            (None, 53, 128)           11648     \n",
      "_________________________________________________________________\n",
      "spatial_dropout1d_8 (Spatial (None, 53, 128)           0         \n",
      "_________________________________________________________________\n",
      "max_pooling1d_8 (MaxPooling1 (None, 26, 128)           0         \n",
      "_________________________________________________________________\n",
      "conv1d_9 (Conv1D)            (None, 24, 64)            24640     \n",
      "_________________________________________________________________\n",
      "spatial_dropout1d_9 (Spatial (None, 24, 64)            0         \n",
      "_________________________________________________________________\n",
      "max_pooling1d_9 (MaxPooling1 (None, 12, 64)            0         \n",
      "_________________________________________________________________\n",
      "flatten_10 (Flatten)         (None, 768)               0         \n",
      "_________________________________________________________________\n",
      "dense_13 (Dense)             (None, 1)                 769       \n",
      "=================================================================\n",
      "Total params: 38,257\n",
      "Trainable params: 38,257\n",
      "Non-trainable params: 0\n",
      "_________________________________________________________________\n"
     ]
    }
   ],
   "source": [
    "cnn = Sequential()\n",
    "cnn.add(Embedding(num_char+1,char_dimension,input_length=max_len))\n",
    "cnn.add(Conv1D(128,activation='relu', kernel_size=3,padding='valid'))\n",
    "cnn.add(SpatialDropout1D(0.1))\n",
    "cnn.add(MaxPool1D())\n",
    "cnn.add(Conv1D(64,activation='relu', kernel_size=3,padding='valid'))\n",
    "cnn.add(SpatialDropout1D(0.1))\n",
    "cnn.add(MaxPool1D())\n",
    "cnn.add(Flatten())\n",
    "cnn.add(Dense(1, activation='sigmoid'))\n",
    "cnn.summary()"
   ]
  },
  {
   "cell_type": "code",
   "execution_count": 102,
   "metadata": {},
   "outputs": [
    {
     "name": "stdout",
     "output_type": "stream",
     "text": [
      "Train on 32981 samples, validate on 14136 samples\n",
      "Epoch 1/3\n",
      "32981/32981 [==============================] - 6s 185us/step - loss: 0.0945 - acc: 0.9794 - val_loss: 0.0531 - val_acc: 0.9814\n",
      "Epoch 2/3\n",
      "32981/32981 [==============================] - 5s 146us/step - loss: 0.0335 - acc: 0.9851 - val_loss: 0.0236 - val_acc: 0.9883\n",
      "Epoch 3/3\n",
      "32981/32981 [==============================] - 5s 156us/step - loss: 0.0220 - acc: 0.9890 - val_loss: 0.0223 - val_acc: 0.9884\n"
     ]
    },
    {
     "data": {
      "text/plain": [
       "<keras.callbacks.History at 0x1a4f585630>"
      ]
     },
     "execution_count": 102,
     "metadata": {},
     "output_type": "execute_result"
    }
   ],
   "source": [
    "cnn.compile(loss='binary_crossentropy',optimizer='adam', metrics=['accuracy'])\n",
    "cnn.fit(train_X_tok, train_y, epochs=3, batch_size=128, validation_split=0.3)"
   ]
  },
  {
   "cell_type": "code",
   "execution_count": 105,
   "metadata": {},
   "outputs": [
    {
     "name": "stdout",
     "output_type": "stream",
     "text": [
      "CNN performance:\n",
      "Precision:  0.7107231920199502\n",
      "Recall:  0.7421875\n",
      "F1:  0.7261146496815287\n",
      "ROC AUC:  0.9953531202675417\n",
      "\n",
      "====================================\n",
      "\n",
      "RNN performance\n",
      "Precision:  0.6349514563106796\n",
      "Recall:  0.8515625\n",
      "F1:  0.7274749721913237\n",
      "ROC AUC:  0.993601321933367\n"
     ]
    }
   ],
   "source": [
    "from sklearn.metrics import roc_auc_score, precision_score, recall_score, f1_score\n",
    "cnn_pred =cnn.predict_classes(test_X_tok)\n",
    "cnn_prob =cnn.predict_proba(test_X_tok)\n",
    "print('CNN performance:')\n",
    "print('Precision: ',precision_score(test_y, cnn_pred))\n",
    "print('Recall: ',recall_score(test_y,cnn_pred))\n",
    "print('F1: ',f1_score(test_y, cnn_pred))\n",
    "print('ROC AUC: ',roc_auc_score(test_y, cnn_prob))\n",
    "print('\\n====================================\\n')\n",
    "print('RNN performance')\n",
    "print('Precision: ',precision_score(test_y, rnn_pred))\n",
    "print('Recall: ',recall_score(test_y, rnn_pred))\n",
    "print('F1: ',f1_score(test_y, rnn_pred))\n",
    "print('ROC AUC: ',roc_auc_score(test_y, rnn_prob))"
   ]
  },
  {
   "cell_type": "code",
   "execution_count": 106,
   "metadata": {},
   "outputs": [
    {
     "data": {
      "text/plain": [
       "0.019253910950661854"
      ]
     },
     "execution_count": 106,
     "metadata": {},
     "output_type": "execute_result"
    }
   ],
   "source": [
    "# malware proportion\n",
    "y.mean()"
   ]
  },
  {
   "cell_type": "markdown",
   "metadata": {},
   "source": [
    "### Summary\n",
    "We compared an rnn model with 64 bidirectional lstm units and a cnn model with two convoluiton layers with 128 and 64 filters respectively. Both models are layered on an character embedding with 40 characters and 55 dimensions and are trained for 3 epochs. The resulting models has similar trainable parameters. CNN model has much better precision than RNN model, yet RNN model has wins recall. The ROC AUC are high for both model due to imbalanced class size. In terms of training time, the CNN model trains almost 4 times faster than RNN model."
   ]
  }
 ],
 "metadata": {
  "kernelspec": {
   "display_name": "Python 3",
   "language": "python",
   "name": "python3"
  },
  "language_info": {
   "codemirror_mode": {
    "name": "ipython",
    "version": 3
   },
   "file_extension": ".py",
   "mimetype": "text/x-python",
   "name": "python",
   "nbconvert_exporter": "python",
   "pygments_lexer": "ipython3",
   "version": "3.6.2"
  }
 },
 "nbformat": 4,
 "nbformat_minor": 2
}
