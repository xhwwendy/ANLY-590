{
 "cells": [
  {
   "cell_type": "code",
   "execution_count": 1,
   "metadata": {},
   "outputs": [
    {
     "name": "stderr",
     "output_type": "stream",
     "text": [
      "C:\\Users\\yangt\\Anaconda3\\lib\\site-packages\\h5py\\__init__.py:36: FutureWarning: Conversion of the second argument of issubdtype from `float` to `np.floating` is deprecated. In future, it will be treated as `np.float64 == np.dtype(float).type`.\n",
      "  from ._conv import register_converters as _register_converters\n",
      "Using TensorFlow backend.\n"
     ]
    }
   ],
   "source": [
    "import pandas as pd\n",
    "import numpy as np\n",
    "import nltk\n",
    "import re\n",
    "import matplotlib.pyplot as plt\n",
    "from sklearn.model_selection import train_test_split\n",
    "from keras.preprocessing.text import Tokenizer\n",
    "from keras.preprocessing.sequence import pad_sequences\n",
    "from keras.layers import Embedding, LSTM,Bidirectional,Conv1D,MaxPool1D,Dense,Input, Flatten,Dropout,SpatialDropout1D,GlobalMaxPooling1D,GlobalAveragePooling1D,concatenate\n",
    "from keras.models import Sequential, Model\n",
    "from keras import backend as K\n",
    "from keras import callbacks\n",
    "from keras.callbacks import EarlyStopping,ModelCheckpoint"
   ]
  },
  {
   "cell_type": "code",
   "execution_count": 2,
   "metadata": {},
   "outputs": [],
   "source": [
    "df = pd.read_csv('train.csv', index_col=0)\n",
    "X = df.comment_text\n",
    "Y = df[['toxic', 'severe_toxic','obscene','threat','insult','identity_hate']]\n",
    "train_X, test_X, train_Y, test_Y = train_test_split(X,Y, test_size = 0.2, random_state = 10)\n",
    "\n",
    "word_dimensions = 300 #300d glove embedding\n",
    "max_vocabs = 100000# unique words to use\n",
    "max_len = 200 # maximum length of words to use in a comment\n",
    "\n",
    "# convert comments to sequences of indices\n",
    "tokenizer = Tokenizer(lower = True,filters='!\"#$%&()*+,-./\\':;<=>?@[\\\\]^_`{|}~\\t\\n')\n",
    "tokenizer.fit_on_texts(train_X)\n",
    "tokenizer.num_words = max_vocabs\n",
    "train_X_tok = tokenizer.texts_to_sequences(train_X)\n",
    "test_X_tok  = tokenizer.texts_to_sequences(test_X)\n",
    "top_vocabs = dict(tokenizer.word_counts)\n",
    "top_vocabs = set(sorted(top_vocabs, key = top_vocabs.get, reverse=True)[:max_vocabs])\n",
    "word_index = dict((key, value) for key,value in tokenizer.word_index.items() if key in top_vocabs)\n",
    "\n",
    "# pad sequences to desired length\n",
    "train_X_tok = pad_sequences(train_X_tok, maxlen=max_len)\n",
    "test_X_tok = pad_sequences(test_X_tok, maxlen = max_len)"
   ]
  },
  {
   "cell_type": "code",
   "execution_count": 3,
   "metadata": {},
   "outputs": [],
   "source": [
    "# load pre-trained embedding\n",
    "embedding_index = {}\n",
    "with open('C:/Users/yangt/Desktop/glove.42B.300d.txt',encoding='utf-8') as f:\n",
    "\tfor line in f:\n",
    "\t\tvalues = line.strip().split()\n",
    "\t\tword = values[0]\n",
    "\t\tvector = np.asarray(values[1:], dtype='float32')\n",
    "\t\tembedding_index[word] = vector"
   ]
  },
  {
   "cell_type": "code",
   "execution_count": 4,
   "metadata": {},
   "outputs": [
    {
     "name": "stdout",
     "output_type": "stream",
     "text": [
      "0.21501\n"
     ]
    }
   ],
   "source": [
    "# construct embedding matrix where each row is a word\n",
    "# word not found in pretrained embedding are vectors of zeros\n",
    "not_found_list = []\n",
    "embedding_matrix = np.random.uniform(size=(len(word_index)+1, word_dimensions))\n",
    "for word,index in word_index.items():\n",
    "\tvec = embedding_index.get(word)\n",
    "\tif vec is not None:\n",
    "\t\tembedding_matrix[index] = vec  \n",
    "\telse:\n",
    "\t\tnot_found_list.append(word)\n",
    "\n",
    "\n",
    "print(len(not_found_list)/100000)\n"
   ]
  },
  {
   "cell_type": "code",
   "execution_count": 5,
   "metadata": {
    "scrolled": true
   },
   "outputs": [
    {
     "name": "stdout",
     "output_type": "stream",
     "text": [
      "_________________________________________________________________\n",
      "Layer (type)                 Output Shape              Param #   \n",
      "=================================================================\n",
      "embedding_1 (Embedding)      (None, 200, 300)          30000300  \n",
      "_________________________________________________________________\n",
      "spatial_dropout1d_1 (Spatial (None, 200, 300)          0         \n",
      "_________________________________________________________________\n",
      "bidirectional_1 (Bidirection (None, 256)               439296    \n",
      "_________________________________________________________________\n",
      "dense_1 (Dense)              (None, 6)                 1542      \n",
      "=================================================================\n",
      "Total params: 30,441,138\n",
      "Trainable params: 30,441,138\n",
      "Non-trainable params: 0\n",
      "_________________________________________________________________\n",
      "None\n",
      "_________________________________________________________________\n",
      "Layer (type)                 Output Shape              Param #   \n",
      "=================================================================\n",
      "embedding_2 (Embedding)      (None, 200, 300)          30000300  \n",
      "_________________________________________________________________\n",
      "spatial_dropout1d_2 (Spatial (None, 200, 300)          0         \n",
      "_________________________________________________________________\n",
      "bidirectional_2 (Bidirection (None, 200, 256)          439296    \n",
      "_________________________________________________________________\n",
      "global_max_pooling1d_1 (Glob (None, 256)               0         \n",
      "_________________________________________________________________\n",
      "dense_2 (Dense)              (None, 6)                 1542      \n",
      "=================================================================\n",
      "Total params: 30,441,138\n",
      "Trainable params: 30,441,138\n",
      "Non-trainable params: 0\n",
      "_________________________________________________________________\n",
      "None\n",
      "__________________________________________________________________________________________________\n",
      "Layer (type)                    Output Shape         Param #     Connected to                     \n",
      "==================================================================================================\n",
      "input_1 (InputLayer)            (None, 200)          0                                            \n",
      "__________________________________________________________________________________________________\n",
      "embedding_3 (Embedding)         (None, 200, 300)     30000300    input_1[0][0]                    \n",
      "__________________________________________________________________________________________________\n",
      "spatial_dropout1d_3 (SpatialDro (None, 200, 300)     0           embedding_3[0][0]                \n",
      "__________________________________________________________________________________________________\n",
      "bidirectional_3 (Bidirectional) (None, 200, 256)     439296      spatial_dropout1d_3[0][0]        \n",
      "__________________________________________________________________________________________________\n",
      "global_max_pooling1d_2 (GlobalM (None, 256)          0           bidirectional_3[0][0]            \n",
      "__________________________________________________________________________________________________\n",
      "global_average_pooling1d_1 (Glo (None, 256)          0           bidirectional_3[0][0]            \n",
      "__________________________________________________________________________________________________\n",
      "concatenate_1 (Concatenate)     (None, 512)          0           global_max_pooling1d_2[0][0]     \n",
      "                                                                 global_average_pooling1d_1[0][0] \n",
      "__________________________________________________________________________________________________\n",
      "dropout_1 (Dropout)             (None, 512)          0           concatenate_1[0][0]              \n",
      "__________________________________________________________________________________________________\n",
      "dense_3 (Dense)                 (None, 6)            3078        dropout_1[0][0]                  \n",
      "==================================================================================================\n",
      "Total params: 30,442,674\n",
      "Trainable params: 30,442,674\n",
      "Non-trainable params: 0\n",
      "__________________________________________________________________________________________________\n",
      "None\n",
      "__________________________________________________________________________________________________\n",
      "Layer (type)                    Output Shape         Param #     Connected to                     \n",
      "==================================================================================================\n",
      "input_2 (InputLayer)            (None, 200)          0                                            \n",
      "__________________________________________________________________________________________________\n",
      "embedding_4 (Embedding)         (None, 200, 300)     30000300    input_2[0][0]                    \n",
      "__________________________________________________________________________________________________\n",
      "spatial_dropout1d_4 (SpatialDro (None, 200, 300)     0           embedding_4[0][0]                \n",
      "__________________________________________________________________________________________________\n",
      "bidirectional_4 (Bidirectional) (None, 200, 256)     439296      spatial_dropout1d_4[0][0]        \n",
      "__________________________________________________________________________________________________\n",
      "conv1d_1 (Conv1D)               (None, 198, 64)      49216       bidirectional_4[0][0]            \n",
      "__________________________________________________________________________________________________\n",
      "global_max_pooling1d_3 (GlobalM (None, 64)           0           conv1d_1[0][0]                   \n",
      "__________________________________________________________________________________________________\n",
      "global_average_pooling1d_2 (Glo (None, 64)           0           conv1d_1[0][0]                   \n",
      "__________________________________________________________________________________________________\n",
      "concatenate_2 (Concatenate)     (None, 128)          0           global_max_pooling1d_3[0][0]     \n",
      "                                                                 global_average_pooling1d_2[0][0] \n",
      "__________________________________________________________________________________________________\n",
      "dropout_2 (Dropout)             (None, 128)          0           concatenate_2[0][0]              \n",
      "__________________________________________________________________________________________________\n",
      "dense_4 (Dense)                 (None, 6)            774         dropout_2[0][0]                  \n",
      "==================================================================================================\n",
      "Total params: 30,489,586\n",
      "Trainable params: 30,489,586\n",
      "Non-trainable params: 0\n",
      "__________________________________________________________________________________________________\n",
      "None\n"
     ]
    }
   ],
   "source": [
    "# early stoping \n",
    "early = EarlyStopping(monitor=\"val_loss\", mode=\"auto\", patience=1)\n",
    "\n",
    "# bilstm construction\n",
    "bilstm = Sequential()\n",
    "bilstm.add(Embedding(embedding_matrix.shape[0],word_dimensions ,input_length=max_len, weights = [embedding_matrix]))\n",
    "bilstm.add(SpatialDropout1D(0.2))\n",
    "bilstm.add(Bidirectional(LSTM(128, dropout = 0.2, recurrent_dropout = 0.2)))\n",
    "bilstm.add(Dense(6, activation='sigmoid'))\n",
    "bilstm.compile(loss='binary_crossentropy',optimizer='adam',metrics=['accuracy'])\n",
    "print(bilstm.summary())\n",
    "\n",
    "# maxpool bilstm\n",
    "maxbilstm = Sequential()\n",
    "maxbilstm.add(Embedding(embedding_matrix.shape[0],word_dimensions ,input_length=max_len, weights = [embedding_matrix]))\n",
    "maxbilstm.add(SpatialDropout1D(0.2))\n",
    "maxbilstm.add(Bidirectional(LSTM(128,dropout = 0.2, recurrent_dropout = 0.2, return_sequences =True)))\n",
    "maxbilstm.add(GlobalMaxPooling1D())\n",
    "maxbilstm.add(Dense(6, activation='sigmoid'))\n",
    "maxbilstm.compile(loss='binary_crossentropy',optimizer='adam',metrics=['accuracy'])\n",
    "print(maxbilstm.summary())\n",
    "\n",
    "# mixed pool bilstm\n",
    "mixbilstm_input = Input(shape=(max_len,))\n",
    "mixbilstm = Embedding(embedding_matrix.shape[0],word_dimensions ,input_length=max_len, weights = [embedding_matrix])(mixbilstm_input)\n",
    "mixbilstm=SpatialDropout1D(0.2)(mixbilstm)\n",
    "mixbilstm = Bidirectional(LSTM(128,dropout = 0.2, recurrent_dropout = 0.2, return_sequences =True))(mixbilstm)\n",
    "mpool = GlobalMaxPooling1D()(mixbilstm)\n",
    "apool = GlobalAveragePooling1D()(mixbilstm)\n",
    "mixpool = concatenate([mpool, apool])\n",
    "mixbilstm =Dropout(0.5)(mixpool)\n",
    "mixbilstm = Dense(6, activation='sigmoid')(mixbilstm)\n",
    "mixbilstm = Model(inputs = [mixbilstm_input], outputs = mixbilstm)\n",
    "mixbilstm.compile(loss='binary_crossentropy',optimizer='adam',metrics=['accuracy'])\n",
    "print(mixbilstm.summary())\n",
    "\n",
    "# mixed pool wtih conv layer\n",
    "mixconv_input = Input(shape=(max_len,))\n",
    "mixconv = Embedding(embedding_matrix.shape[0],word_dimensions ,input_length=max_len, weights = [embedding_matrix])(mixconv_input)\n",
    "mixconv=SpatialDropout1D(0.2)(mixconv)\n",
    "mixconv = Bidirectional(LSTM(128,dropout = 0.2, recurrent_dropout = 0.2, return_sequences =True))(mixconv)\n",
    "mixconv =Conv1D(filters =64, kernel_size = 3)(mixconv)\n",
    "mpool = GlobalMaxPooling1D()(mixconv)\n",
    "apool = GlobalAveragePooling1D()(mixconv)\n",
    "mixpool = concatenate([mpool, apool])\n",
    "mixconv =Dropout(0.5)(mixpool)\n",
    "mixconv = Dense(6, activation='sigmoid')(mixconv)\n",
    "mixconv = Model(inputs = [mixconv_input], outputs = mixconv)\n",
    "mixconv.compile(loss='binary_crossentropy',optimizer='adam',metrics=['accuracy'])\n",
    "print(mixconv.summary())"
   ]
  },
  {
   "cell_type": "code",
   "execution_count": 6,
   "metadata": {
    "scrolled": false
   },
   "outputs": [
    {
     "name": "stdout",
     "output_type": "stream",
     "text": [
      "Train on 102124 samples, validate on 25532 samples\n",
      "Epoch 1/10\n",
      "102124/102124 [==============================] - 209s 2ms/step - loss: 0.0748 - acc: 0.9747 - val_loss: 0.0493 - val_acc: 0.9817\n",
      "Epoch 2/10\n",
      "102124/102124 [==============================] - 209s 2ms/step - loss: 0.0457 - acc: 0.9828 - val_loss: 0.0456 - val_acc: 0.9828\n",
      "Epoch 3/10\n",
      "102124/102124 [==============================] - 209s 2ms/step - loss: 0.0398 - acc: 0.9847 - val_loss: 0.0444 - val_acc: 0.9831\n",
      "Epoch 4/10\n",
      "102124/102124 [==============================] - 209s 2ms/step - loss: 0.0351 - acc: 0.9861 - val_loss: 0.0447 - val_acc: 0.9830\n",
      "Train on 102124 samples, validate on 25532 samples\n",
      "Epoch 1/10\n",
      "102124/102124 [==============================] - 215s 2ms/step - loss: 0.0728 - acc: 0.9755 - val_loss: 0.0481 - val_acc: 0.9822\n",
      "Epoch 2/10\n",
      "102124/102124 [==============================] - 214s 2ms/step - loss: 0.0432 - acc: 0.9837 - val_loss: 0.0445 - val_acc: 0.9828\n",
      "Epoch 3/10\n",
      "102124/102124 [==============================] - 214s 2ms/step - loss: 0.0376 - acc: 0.9852 - val_loss: 0.0424 - val_acc: 0.9838\n",
      "Epoch 4/10\n",
      "102124/102124 [==============================] - 215s 2ms/step - loss: 0.0335 - acc: 0.9866 - val_loss: 0.0431 - val_acc: 0.9837\n",
      "Train on 102124 samples, validate on 25532 samples\n",
      "Epoch 1/10\n",
      "102124/102124 [==============================] - 227s 2ms/step - loss: 0.0870 - acc: 0.9719 - val_loss: 0.0484 - val_acc: 0.9820\n",
      "Epoch 2/10\n",
      "102124/102124 [==============================] - 226s 2ms/step - loss: 0.0479 - acc: 0.9823 - val_loss: 0.0458 - val_acc: 0.9826\n",
      "Epoch 3/10\n",
      "102124/102124 [==============================] - 226s 2ms/step - loss: 0.0426 - acc: 0.9837 - val_loss: 0.0449 - val_acc: 0.9829\n",
      "Epoch 4/10\n",
      "102124/102124 [==============================] - 226s 2ms/step - loss: 0.0379 - acc: 0.9852 - val_loss: 0.0449 - val_acc: 0.9832\n",
      "Train on 102124 samples, validate on 25532 samples\n",
      "Epoch 1/10\n",
      "102124/102124 [==============================] - 270s 3ms/step - loss: 0.0807 - acc: 0.9738 - val_loss: 0.0473 - val_acc: 0.9823\n",
      "Epoch 2/10\n",
      "102124/102124 [==============================] - 268s 3ms/step - loss: 0.0468 - acc: 0.9826 - val_loss: 0.0437 - val_acc: 0.9834\n",
      "Epoch 3/10\n",
      "102124/102124 [==============================] - 268s 3ms/step - loss: 0.0410 - acc: 0.9842 - val_loss: 0.0437 - val_acc: 0.9834\n"
     ]
    },
    {
     "data": {
      "text/plain": [
       "<keras.callbacks.History at 0x2acc6898b00>"
      ]
     },
     "execution_count": 6,
     "metadata": {},
     "output_type": "execute_result"
    }
   ],
   "source": [
    "# model fitting\n",
    "bilstm.fit(train_X_tok, train_Y,batch_size = 256, epochs =10, validation_split = 0.2, callbacks = [early])\n",
    "maxbilstm.fit(train_X_tok, train_Y,batch_size = 256, epochs =10, validation_split = 0.2, callbacks = [early])\n",
    "mixbilstm.fit(train_X_tok, train_Y,batch_size = 256, epochs =10, validation_split = 0.2, callbacks = [early])\n",
    "mixconv.fit(train_X_tok, train_Y,batch_size = 256, epochs =10, validation_split = 0.2, callbacks = [early])"
   ]
  },
  {
   "cell_type": "code",
   "execution_count": 7,
   "metadata": {},
   "outputs": [],
   "source": [
    "# prediction\n",
    "bilstm_pred = bilstm.predict_proba(test_X_tok)\n",
    "maxbilstm_pred = maxbilstm.predict_proba(test_X_tok)\n",
    "mixbilstm_pred = mixbilstm.predict(test_X_tok)\n",
    "mixconv_pred = mixconv.predict(test_X_tok)"
   ]
  },
  {
   "cell_type": "code",
   "execution_count": 10,
   "metadata": {},
   "outputs": [],
   "source": [
    "import pandas as pd\n",
    "from sklearn.metrics import roc_auc_score\n",
    "result = {'models':['bilstm', 'mxbilstm', 'mixbilstm', 'mixconv']}\n",
    "\n",
    "for i,c in enumerate(test_Y.columns):\n",
    "    result[c] = [roc_auc_score(test_Y[c], bilstm_pred[:, i]),roc_auc_score(test_Y[c], maxbilstm_pred[:, i]),roc_auc_score(test_Y[c], mixbilstm_pred[:, i]),roc_auc_score(test_Y[c], mixconv_pred[:, i]) ]\n",
    "\n",
    "pd.DataFrame(result).to_csv('dl_result.csv')"
   ]
  },
  {
   "cell_type": "code",
   "execution_count": 13,
   "metadata": {},
   "outputs": [],
   "source": [
    "test_df = pd.read_csv('test.csv',index_col=0)\n",
    "\n",
    "test_df  = tokenizer.texts_to_sequences(test_df.comment_text)\n",
    "\n",
    "test_df = pad_sequences(test_df, maxlen = max_len)\n",
    "\n",
    "test_pred  = maxbilstm.predict(test_df)\n",
    "\n",
    "submission = pd.DataFrame(data=test_pred, columns=test_Y.columns,index=pd.read_csv('test.csv',index_col=0).index)\n",
    "\n",
    "submission.to_csv('submission.csv')"
   ]
  },
  {
   "cell_type": "code",
   "execution_count": null,
   "metadata": {},
   "outputs": [],
   "source": []
  }
 ],
 "metadata": {
  "kernelspec": {
   "display_name": "Python 3",
   "language": "python",
   "name": "python3"
  },
  "language_info": {
   "codemirror_mode": {
    "name": "ipython",
    "version": 3
   },
   "file_extension": ".py",
   "mimetype": "text/x-python",
   "name": "python",
   "nbconvert_exporter": "python",
   "pygments_lexer": "ipython3",
   "version": "3.6.5"
  }
 },
 "nbformat": 4,
 "nbformat_minor": 2
}
