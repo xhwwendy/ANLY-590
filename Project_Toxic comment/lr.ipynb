{
 "cells": [
  {
   "cell_type": "code",
   "execution_count": 7,
   "metadata": {},
   "outputs": [],
   "source": [
    "import pandas as pd\n",
    "import numpy as np\n",
    "import nltk\n",
    "import re\n",
    "import matplotlib.pyplot as plt\n",
    "from sklearn.model_selection import train_test_split\n",
    "from keras.preprocessing.text import Tokenizer\n",
    "from keras.preprocessing.sequence import pad_sequences\n",
    "from keras.layers import Embedding, LSTM,Bidirectional,Conv1D,MaxPool1D,Dense,Input, Flatten,Dropout,SpatialDropout1D,GlobalMaxPool1D\n",
    "from keras.models import Sequential\n",
    "from keras import backend as K\n",
    "import keras\n",
    "from sklearn.linear_model import LogisticRegression\n",
    "from sklearn.metrics import roc_auc_score\n",
    "from sklearn.svm import SVC\n",
    "from sklearn.feature_extraction.text import CountVectorizer"
   ]
  },
  {
   "cell_type": "code",
   "execution_count": 5,
   "metadata": {},
   "outputs": [],
   "source": [
    "df = pd.read_csv('train.csv', index_col=0)\n",
    "X = df.comment_text\n",
    "Y = df[['toxic', 'severe_toxic','obscene','threat','insult','identity_hate']]\n",
    "train_X, test_X, train_Y, test_Y = train_test_split(X,Y, test_size = 0.2,random_state = 10)"
   ]
  },
  {
   "cell_type": "code",
   "execution_count": 10,
   "metadata": {},
   "outputs": [],
   "source": [
    "# non neural classification model\n",
    "# LR\n",
    "tok = nltk.tokenize.TweetTokenizer()\n",
    "vectorizer = CountVectorizer(lowercase= True, stop_words='english', ngram_range=(1,2),tokenizer=tok.tokenize)\n",
    "train_X_vec = vectorizer.fit_transform(train_X)\n",
    "test_X_vect = vectorizer.transform(test_X)"
   ]
  },
  {
   "cell_type": "code",
   "execution_count": 11,
   "metadata": {},
   "outputs": [],
   "source": [
    "#LR\n",
    "lr_tox = LogisticRegression()\n",
    "lr_stox = LogisticRegression()\n",
    "lr_ob = LogisticRegression()\n",
    "lr_th = LogisticRegression()\n",
    "lr_in = LogisticRegression()\n",
    "lr_id = LogisticRegression()"
   ]
  },
  {
   "cell_type": "code",
   "execution_count": 14,
   "metadata": {},
   "outputs": [
    {
     "name": "stderr",
     "output_type": "stream",
     "text": [
      "/Users/tianyuyang/anaconda3/lib/python3.6/site-packages/sklearn/linear_model/logistic.py:432: FutureWarning: Default solver will be changed to 'lbfgs' in 0.22. Specify a solver to silence this warning.\n",
      "  FutureWarning)\n",
      "/Users/tianyuyang/anaconda3/lib/python3.6/site-packages/sklearn/svm/base.py:922: ConvergenceWarning: Liblinear failed to converge, increase the number of iterations.\n",
      "  \"the number of iterations.\", ConvergenceWarning)\n"
     ]
    },
    {
     "data": {
      "text/plain": [
       "LogisticRegression(C=1.0, class_weight=None, dual=False, fit_intercept=True,\n",
       "          intercept_scaling=1, max_iter=100, multi_class='warn',\n",
       "          n_jobs=None, penalty='l2', random_state=None, solver='warn',\n",
       "          tol=0.0001, verbose=0, warm_start=False)"
      ]
     },
     "execution_count": 14,
     "metadata": {},
     "output_type": "execute_result"
    }
   ],
   "source": [
    "lr_tox.fit(train_X_vec,train_Y['toxic'])\n",
    "lr_stox.fit(train_X_vec, train_Y['severe_toxic'])\n",
    "lr_ob.fit(train_X_vec, train_Y['obscene'])\n",
    "lr_th.fit(train_X_vec, train_Y['threat'])\n",
    "lr_in.fit(train_X_vec, train_Y['insult'])\n",
    "lr_id.fit(train_X_vec, train_Y['identity_hate'])"
   ]
  },
  {
   "cell_type": "code",
   "execution_count": 19,
   "metadata": {},
   "outputs": [],
   "source": [
    "tox_pred = lr_tox.predict_proba(test_X_vect)[:,1]\n",
    "stox_pred = lr_stox.predict_proba(test_X_vect)[:,1]\n",
    "ob_pred =lr_ob.predict_proba(test_X_vect)[:,1]\n",
    "th_pred = lr_th.predict_proba(test_X_vect)[:,1]\n",
    "in_pred = lr_in.predict_proba(test_X_vect)[:,1]\n",
    "id_pred = lr_id.predict_proba(test_X_vect)[:,1]"
   ]
  },
  {
   "cell_type": "code",
   "execution_count": 20,
   "metadata": {},
   "outputs": [],
   "source": [
    "tox_auc = roc_auc_score(test_Y['toxic'], tox_pred)\n",
    "stox_auc =roc_auc_score(test_Y['severe_toxic'], stox_pred)\n",
    "ob_auc = roc_auc_score(test_Y['obscene'], ob_pred)\n",
    "th_auc = roc_auc_score(test_Y['threat'], th_pred)\n",
    "in_auc = roc_auc_score(test_Y['insult'], in_pred)\n",
    "id_auc = roc_auc_score(test_Y['identity_hate'], id_pred)"
   ]
  },
  {
   "cell_type": "code",
   "execution_count": 23,
   "metadata": {},
   "outputs": [],
   "source": [
    "pd.Series([tox_auc,stox_auc,ob_auc ,th_auc ,in_auc,id_auc], test_Y.columns).to_csv('lr_result.csv')"
   ]
  }
 ],
 "metadata": {
  "kernelspec": {
   "display_name": "Python 3",
   "language": "python",
   "name": "python3"
  },
  "language_info": {
   "codemirror_mode": {
    "name": "ipython",
    "version": 3
   },
   "file_extension": ".py",
   "mimetype": "text/x-python",
   "name": "python",
   "nbconvert_exporter": "python",
   "pygments_lexer": "ipython3",
   "version": "3.6.5"
  }
 },
 "nbformat": 4,
 "nbformat_minor": 2
}
